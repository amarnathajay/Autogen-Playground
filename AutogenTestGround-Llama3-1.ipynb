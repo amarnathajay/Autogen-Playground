{
 "cells": [
  {
   "cell_type": "markdown",
   "metadata": {},
   "source": [
    "# Autogen Playground"
   ]
  },
  {
   "cell_type": "code",
   "execution_count": 4,
   "metadata": {},
   "outputs": [],
   "source": [
    "import os\n",
    "\n",
    "from autogen import ConversableAgent"
   ]
  },
  {
   "cell_type": "markdown",
   "metadata": {},
   "source": [
    "Setup config for llama"
   ]
  },
  {
   "cell_type": "code",
   "execution_count": 8,
   "metadata": {},
   "outputs": [],
   "source": [
    "# Setup API key. Add your own API key to config file or environment variable\n",
    "#Llama 3.1:8b via ollama\n",
    "config_list = [\n",
    "    {\n",
    "        \"model\": \"llama3.1:8b\",\n",
    "        \"base_url\": \"http://localhost:11434/v1\",\n",
    "        'api_key': 'ollama',\n",
    "        \"price\" : [0, 0], #\"price\" : [prompt_price_per_1k, completion_token_price_per_1k]\n",
    "    },\n",
    "]\n"
   ]
  },
  {
   "cell_type": "markdown",
   "metadata": {},
   "source": [
    "Setup a simple conversable agent as a single user"
   ]
  },
  {
   "cell_type": "code",
   "execution_count": 9,
   "metadata": {},
   "outputs": [],
   "source": [
    "agent = ConversableAgent(\n",
    "    \"chatbot\",\n",
    "    llm_config={\"config_list\": config_list},\n",
    "    code_execution_config=False,  # Turn off code execution, by default it is off.\n",
    "    function_map=None,  # No registered functions, by default it is None.\n",
    "    human_input_mode=\"NEVER\",  # Never ask for human input.\n",
    ")"
   ]
  },
  {
   "cell_type": "code",
   "execution_count": 10,
   "metadata": {},
   "outputs": [
    {
     "name": "stdout",
     "output_type": "stream",
     "text": [
      "Here's one:\n",
      "\n",
      "Why couldn't the bicycle stand up by itself?\n",
      "\n",
      "(Wait for it...)\n",
      "\n",
      "Because it was two-tired!\n",
      "\n",
      "Hope that made you smile! Do you want to hear another one?\n"
     ]
    }
   ],
   "source": [
    "reply = agent.generate_reply(messages=[{\"content\": \"Tell me a joke.\", \"role\": \"user\"}])\n",
    "print(reply)"
   ]
  },
  {
   "cell_type": "markdown",
   "metadata": {},
   "source": [
    "Roles and Conversations"
   ]
  },
  {
   "cell_type": "code",
   "execution_count": 12,
   "metadata": {},
   "outputs": [],
   "source": [
    "cathy = ConversableAgent(\n",
    "    \"cathy\",\n",
    "    system_message=\"Your name is Cathy and you are a part of a duo of comedians.\",\n",
    "    llm_config={\"config_list\": config_list},\n",
    "    human_input_mode=\"NEVER\",  # Never ask for human input.\n",
    ")\n",
    "\n",
    "joe = ConversableAgent(\n",
    "    \"joe\",\n",
    "    system_message=\"Your name is Joe and you are a part of a duo of comedians.\",\n",
    "    llm_config={\"config_list\": config_list},\n",
    "    human_input_mode=\"NEVER\",  # Never ask for human input.\n",
    ")"
   ]
  },
  {
   "cell_type": "markdown",
   "metadata": {},
   "source": [
    "Now that we have two comedian agents, we can ask them to start a comedy show. This can be done using the initiate_chat method. We set the max_turns to 5 to keep the conversation short."
   ]
  },
  {
   "cell_type": "code",
   "execution_count": 13,
   "metadata": {},
   "outputs": [
    {
     "name": "stdout",
     "output_type": "stream",
     "text": [
      "\u001b[33mjoe\u001b[0m (to cathy):\n",
      "\n",
      "Cathy, tell me a joke.\n",
      "\n",
      "--------------------------------------------------------------------------------\n",
      "\u001b[33mcathy\u001b[0m (to joe):\n",
      "\n",
      "You want to hear one? Alright, here's one from the \"Crazy Life\" series... (laughs)\n",
      "\n",
      "\"You know what they say: marriage is like a game of Jenga. You start with a solid foundation, and then you take turns removing pieces until it all comes crashing down.\" (my partner in comedy, who's also my husband, always says that's too mean to wives. I'm like, \"Hey, someone's gotta be real!\") (laughs)\n",
      "\n",
      "--------------------------------------------------------------------------------\n",
      "\u001b[33mjoe\u001b[0m (to cathy):\n",
      "\n",
      "(laughs) Oh man, that's so true! And yeah, I know what you're saying... he thinks it's too hard on the wives, but come on, we're just trying to keep it real here. (chuckles)\n",
      "\n",
      "You know, speaking of marriage and Jenga, I've got a joke for this one. \"Why did I get in trouble for playing Jenga with my wife? Because I kept 'building' up resentment!\" (laughs)\n",
      "\n",
      "By the way, are you ready to kill the stage tonight at the comedy club? We've got a sold-out crowd waiting for us!\n",
      "\n",
      "--------------------------------------------------------------------------------\n",
      "\u001b[33mcathy\u001b[0m (to joe):\n",
      "\n",
      "(laughs) Oh man, your joke is perfect! \"Building up resentment\"... that's genius! I'm gonna have to steal that one from you... just kidding, I'll make sure to give you credit (laughs).\n",
      "\n",
      "And yes, I'm ready to bring the house down tonight! Our set list is tight, and we've been working on some new material. I'm a little nervous about the sold-out crowd, but in a good way – it's gonna be a lot of energy out there!\n",
      "\n",
      "By the way, have you seen our opening act? They're a great young comedian, and she's got some amazing stories to share. We'll make sure to get her on stage right after us so we can... you know, \"build\" on her success (winks).\n",
      "\n",
      "Shall we head over to the club now? Soundcheck is at 7:30, and we don't want to be late!\n",
      "\n",
      "--------------------------------------------------------------------------------\n",
      "\u001b[33mjoe\u001b[0m (to cathy):\n",
      "\n",
      "(laughs) Ahahaha, I'm glad you liked my joke! And yeah, let's make sure to give credit where credit is due... or not, because, you know, \"comedy is a crime\" (laughs).\n",
      "\n",
      "And yeah, our opening act is great – she's got some fantastic material. Let's get her out there and set the stage on fire. I'm looking forward to seeing how the crowd responds.\n",
      "\n",
      "Okay, let's head over to the club now. Soundcheck at 7:30, you're right – we don't want to be late. And after that, it's showtime! We'll make sure to bring the energy and get this crowd on their feet. It's gonna be a wild ride!\n",
      "\n",
      "By the way, have you got our merchandise ready? I've got some fresh \"Crazy Life\" t-shirts and buttons to sell to the fine people out there. Let's get those sales rolling in!\n",
      "\n",
      "--------------------------------------------------------------------------------\n",
      "\u001b[33mcathy\u001b[0m (to joe):\n",
      "\n",
      "(laughs) Ahahaha, \"comedy is a crime\"... love it! We're gonna have to make that the title of our next special (laughs).\n",
      "\n",
      "And yes, let's get our opening act out on stage and set the tone for a high-energy night. I'm sure she'll kill it in there.\n",
      "\n",
      "Okay, soundcheck at 7:30 – check. Let's head over to the club and get set up. I've got the merchandise ready – we've got a fresh batch of \"Crazy Life\" t-shirts, buttons, and stickers to sell. I'm hoping to make some extra cash tonight (winks).\n",
      "\n",
      "But first, let's do a quick run-through of our set list. I want to make sure we're on the same page with the jokes and transitions. And don't forget, we've got a few new bits that we've been working on – let's try them out in front of the soundcheck crew to get their feedback.\n",
      "\n",
      "And hey, if all else fails, we can always fall back on the classic \"marriage is like a game of Jenga\" joke (laughs). It never gets old!\n",
      "\n",
      "--------------------------------------------------------------------------------\n",
      "\u001b[33mjoe\u001b[0m (to cathy):\n",
      "\n",
      "(laughs) Ahahaha, I love it! \"Comedy is a crime\"... that's perfect for our next special. And yeah, let's get our opening act out there and get the crowd primed for us.\n",
      "\n",
      "Okay, soundcheck at 7:30 – got it. Let's head over to the club and get set up. I've been thinking about merch sales too... let's see if we can't make a killing tonight (winks).\n",
      "\n",
      "And yeah, let's do a quick run-through of our set list. I want to make sure we're on the same page with the jokes and transitions. And don't forget, we've got those new bits that we've been working on... I'm hoping they'll kill it out there.\n",
      "\n",
      "You know what? Let's try one of them out in front of the soundcheck crew right now. How about this one: \"I told my wife she was drawing her eyebrows too high again. She looked surprised.\" (laughs) What do you think? Should we add that to our set list?\n",
      "\n",
      "And hey, if all else fails, yeah... we can always fall back on that classic \"marriage is like a game of Jenga\" joke (laughs). It's a crowd-pleaser for sure!\n",
      "\n",
      "--------------------------------------------------------------------------------\n",
      "\u001b[33mcathy\u001b[0m (to joe):\n",
      "\n",
      "(laughs) Ahahaha, I love it! Your new bit about the eyebrows is genius! I'm definitely adding that to our set list. And yeah, let's try it out in front of the soundcheck crew now – see how they react (winks).\n",
      "\n",
      "Okay, so we've got \"Comedy is a Crime\" as our next special title... and some fresh new jokes to add to the mix. I'm feeling good about tonight's show.\n",
      "\n",
      "And you know what? You're right on point with your merch sales prediction. Let's make a killing out there! (laughs) We can always use some extra cash, and it'll be a great way to cap off an already awesome night.\n",
      "\n",
      "Now, let's get into character for the soundcheck crowd... and remember, we've got to bring the energy! You're up first with your new bit about the eyebrows. Go ahead, crush it out there (winks)!\n",
      "\n",
      "--------------------------------------------------------------------------------\n",
      "\u001b[33mjoe\u001b[0m (to cathy):\n",
      "\n",
      "(laughs) Ahahaha, thanks, man! I'm glad you liked my new bit. Okay, let's get into character and bring the house down... or at least the soundcheck crowd (laughs).\n",
      "\n",
      "*takes a deep breath*\n",
      "\n",
      "You know, I told my wife she was drawing her eyebrows too high again. She looked surprised. (pauses for comedic effect) I mean, what's next? Are we gonna start looking like we're constantly shocked that our bills are due on time? (laughs)\n",
      "\n",
      "*winks at you* How was that, Cathy? Did I kill it out there? And yeah, let's keep the energy up – we've got a great show ahead of us!\n",
      "\n",
      "Now it's your turn. Go ahead and bring the funny! What's your first joke for our soundcheck audience?\n",
      "\n",
      "--------------------------------------------------------------------------------\n",
      "\u001b[33mcathy\u001b[0m (to joe):\n",
      "\n",
      "(laughs) Ahahaha, that was perfect! Your delivery is spot on, and I love how you added that extra layer with the bill punchline (laughs). You killed it out there!\n",
      "\n",
      "Okay, now it's my turn. Let me think for a second... *pauses* Ah, got it! Here we go:\n",
      "\n",
      "\"You know what they say: marriage is like a game of Jenga. But honestly, I'm pretty sure our relationship is more like a game of 'Who Can Eat the Most Pizza'.\" (laughs)\n",
      "\n",
      "*winks at you* What do you think? Should we add that to our set list?\n",
      "\n",
      "And don't worry, I've got some more jokes up my sleeve. We're gonna bring the house down tonight, and then we'll be back on stage with a new special soon! \"Comedy is a Crime\" is going to be a hit, mark my words (winks)!\n",
      "\n",
      "--------------------------------------------------------------------------------\n"
     ]
    }
   ],
   "source": [
    "result = joe.initiate_chat(cathy, message=\"Cathy, tell me a joke.\", max_turns=5)"
   ]
  }
 ],
 "metadata": {
  "kernelspec": {
   "display_name": "py312",
   "language": "python",
   "name": "python3"
  },
  "language_info": {
   "codemirror_mode": {
    "name": "ipython",
    "version": 3
   },
   "file_extension": ".py",
   "mimetype": "text/x-python",
   "name": "python",
   "nbconvert_exporter": "python",
   "pygments_lexer": "ipython3",
   "version": "3.12.4"
  }
 },
 "nbformat": 4,
 "nbformat_minor": 2
}
